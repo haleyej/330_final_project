{
 "cells": [
  {
   "cell_type": "markdown",
   "id": "liked-possible",
   "metadata": {},
   "source": [
    "<h1>Process Data</h1>\n",
    "<h4>Haley Johnson</h4>\n",
    "\n",
    "<p>Notebook to extract, combine and transform data</p>"
   ]
  },
  {
   "cell_type": "code",
   "execution_count": 1,
   "id": "monthly-entrepreneur",
   "metadata": {},
   "outputs": [],
   "source": [
    "import pandas as pd\n",
    "import numpy as np\n",
    "import seaborn as sns\n",
    "import os "
   ]
  },
  {
   "cell_type": "markdown",
   "id": "vertical-entrepreneur",
   "metadata": {},
   "source": [
    "<h2>Manipulate Happiness Data</h2>"
   ]
  },
  {
   "cell_type": "code",
   "execution_count": 2,
   "id": "prepared-uncertainty",
   "metadata": {},
   "outputs": [],
   "source": [
    "html = pd.read_html(\"happiest_cities.html\")"
   ]
  },
  {
   "cell_type": "code",
   "execution_count": 3,
   "id": "preliminary-intellectual",
   "metadata": {},
   "outputs": [],
   "source": [
    "happiness_df = html[0]"
   ]
  },
  {
   "cell_type": "code",
   "execution_count": 4,
   "id": "serial-trading",
   "metadata": {},
   "outputs": [],
   "source": [
    "happiness_df = happiness_df.rename(columns = {'City': 'Location'})\n",
    "\n",
    "happiness_df['state'] = happiness_df['Location'].apply(lambda s: s.split(\",\")[-1])\n",
    "happiness_df['city'] = happiness_df['Location'].apply(lambda s: s.split(\",\")[0])\n",
    "\n",
    "happiness_df = happiness_df.drop(columns = ['Location'])"
   ]
  },
  {
   "cell_type": "code",
   "execution_count": 5,
   "id": "narrow-worse",
   "metadata": {},
   "outputs": [],
   "source": [
    "happiness_df['state'] = happiness_df['state'].str.upper()\n",
    "happiness_df['city'] = happiness_df['city'].str.upper()"
   ]
  },
  {
   "cell_type": "markdown",
   "id": "deluxe-dubai",
   "metadata": {},
   "source": [
    "<h2>Manipulate Transportation Data</h2>"
   ]
  },
  {
   "cell_type": "code",
   "execution_count": 6,
   "id": "first-building",
   "metadata": {},
   "outputs": [],
   "source": [
    "locations_df = pd.read_csv(\"EPA_SmartLocationDatabase_V3_Jan_2021_Final.csv\")"
   ]
  },
  {
   "cell_type": "markdown",
   "id": "polar-procedure",
   "metadata": {},
   "source": [
    "<h4>Remove Rows Where Location Is Missing</h4>"
   ]
  },
  {
   "cell_type": "code",
   "execution_count": 7,
   "id": "ideal-cancer",
   "metadata": {},
   "outputs": [],
   "source": [
    "locations_df = locations_df[pd.isnull(locations_df['CBSA_Name']) == False]"
   ]
  },
  {
   "cell_type": "markdown",
   "id": "united-angel",
   "metadata": {},
   "source": [
    "<h4>Adding Percent Columns</h4>"
   ]
  },
  {
   "cell_type": "code",
   "execution_count": 8,
   "id": "marked-karma",
   "metadata": {},
   "outputs": [],
   "source": [
    "def calc_pct_protect(s):\n",
    "    '''\n",
    "    Takes in a row of a dataframe\n",
    "    Returns the percentage of land\n",
    "    that is protected'''\n",
    "    \n",
    "    total_area = s['Ac_Total']\n",
    "    unprotected_area = s['Ac_Unpr']\n",
    "    protected_area = total_area - unprotected_area\n",
    "    try:\n",
    "        div = (protected_area / total_area)\n",
    "    except:\n",
    "        div = 0\n",
    "    return div\n",
    "    "
   ]
  },
  {
   "cell_type": "code",
   "execution_count": 9,
   "id": "variable-offering",
   "metadata": {},
   "outputs": [],
   "source": [
    "locations_df['PCT_protected'] = locations_df.apply(calc_pct_protect, axis = 1)\n",
    "\n",
    "locations_df['PCT_water'] = locations_df['Ac_Water'] / locations_df['Ac_Total']\n",
    "locations_df['pct_D5AR'] = locations_df['D5AR'] / locations_df['CBSA_POP']"
   ]
  },
  {
   "cell_type": "markdown",
   "id": "present-apollo",
   "metadata": {},
   "source": [
    "<h4>Setting Ranking Columns as Category</h4>"
   ]
  },
  {
   "cell_type": "code",
   "execution_count": 10,
   "id": "suited-profession",
   "metadata": {},
   "outputs": [],
   "source": [
    "rankings = ['D2A_Ranked', 'D2B_Ranked', 'D3B_Ranked', 'D4A_Ranked']\n",
    "\n",
    "for rank in rankings:\n",
    "    locations_df[rank] = locations_df[rank].astype('category')"
   ]
  },
  {
   "cell_type": "markdown",
   "id": "facial-promise",
   "metadata": {},
   "source": [
    "<h4>Get City and State Names</h4>"
   ]
  },
  {
   "cell_type": "code",
   "execution_count": 11,
   "id": "freelance-incentive",
   "metadata": {},
   "outputs": [],
   "source": [
    "locations_df['CBSA_Name'] = locations_df['CBSA_Name'].astype(str)"
   ]
  },
  {
   "cell_type": "code",
   "execution_count": 12,
   "id": "thousand-confidence",
   "metadata": {},
   "outputs": [],
   "source": [
    "locations_df['metro_area_cities'] = locations_df['CBSA_Name'].apply(lambda s: str(s).split(\",\")[0])\n",
    "locations_df['metro_area_states'] = locations_df['CBSA_Name'].apply(lambda s: str(s).split(\",\")[-1])\n",
    "\n",
    "locations_df['city'] = locations_df['metro_area_cities'].apply(lambda s: s.split(\"-\"))\n",
    "locations_df['state'] = locations_df['metro_area_states'].apply(lambda s: s.split(\"-\"))"
   ]
  },
  {
   "cell_type": "code",
   "execution_count": 13,
   "id": "actual-omaha",
   "metadata": {},
   "outputs": [],
   "source": [
    "locations_df = locations_df.drop(columns = ['metro_area_cities', 'metro_area_states'])"
   ]
  },
  {
   "cell_type": "markdown",
   "id": "german-flight",
   "metadata": {},
   "source": [
    "<h3>Explode</h3>"
   ]
  },
  {
   "cell_type": "code",
   "execution_count": 14,
   "id": "published-mainstream",
   "metadata": {},
   "outputs": [],
   "source": [
    "exploded = locations_df.explode('city')\n",
    "exploded = exploded.explode('state')\n",
    "exploded = exploded.drop_duplicates()"
   ]
  },
  {
   "cell_type": "code",
   "execution_count": 15,
   "id": "bizarre-sydney",
   "metadata": {},
   "outputs": [],
   "source": [
    "exploded['city'] = exploded['city'].str.upper()\n",
    "exploded['state'] = exploded['state'].str.upper()"
   ]
  },
  {
   "cell_type": "markdown",
   "id": "round-politics",
   "metadata": {},
   "source": [
    "<h2>Merging Happiness and Transportation Dataframes</h2>"
   ]
  },
  {
   "cell_type": "code",
   "execution_count": 16,
   "id": "congressional-qatar",
   "metadata": {},
   "outputs": [],
   "source": [
    "df = exploded.merge(happiness_df, on = ['state', 'city'], how = 'left')"
   ]
  },
  {
   "cell_type": "code",
   "execution_count": 17,
   "id": "legal-denmark",
   "metadata": {},
   "outputs": [],
   "source": [
    "matches = exploded.merge(happiness_df, on = ['state', 'city'])"
   ]
  },
  {
   "cell_type": "code",
   "execution_count": 18,
   "id": "harmful-buddy",
   "metadata": {},
   "outputs": [],
   "source": [
    "# NOTE TO SELF: When you add new columns up above, you need to adjust these \n",
    "vals = list(matches.columns)[11:-7] + list(happiness_df.columns)[:-2]\n",
    "df = pd.pivot_table(matches, index = ['city', \"state\"], values = vals, aggfunc='mean')"
   ]
  },
  {
   "cell_type": "code",
   "execution_count": 19,
   "id": "necessary-sydney",
   "metadata": {},
   "outputs": [],
   "source": [
    "df = df.reset_index()"
   ]
  },
  {
   "cell_type": "markdown",
   "id": "indie-graph",
   "metadata": {},
   "source": [
    "<h2>Data Visualization</h2>"
   ]
  },
  {
   "cell_type": "code",
   "execution_count": 20,
   "id": "crazy-serve",
   "metadata": {},
   "outputs": [
    {
     "data": {
      "text/plain": [
       "<AxesSubplot:xlabel='Community & Environment', ylabel='pct_D5AR'>"
      ]
     },
     "execution_count": 20,
     "metadata": {},
     "output_type": "execute_result"
    },
    {
     "data": {
      "image/png": "[encoded data removed]",
      "text/plain": [
       "<Figure size 432x288 with 1 Axes>"
      ]
     },
     "metadata": {
      "needs_background": "light"
     },
     "output_type": "display_data"
    }
   ],
   "source": [
    "df.plot.scatter(y = 'pct_D5AR', x = 'Community & Environment')"
   ]
  },
  {
   "cell_type": "code",
   "execution_count": 21,
   "id": "necessary-brass",
   "metadata": {},
   "outputs": [
    {
     "data": {
      "text/plain": [
       "<AxesSubplot:xlabel='Total Score', ylabel='pct_D5AR'>"
      ]
     },
     "execution_count": 21,
     "metadata": {},
     "output_type": "execute_result"
    },
    {
     "data": {
      "image/png": "[encoded data removed]",
      "text/plain": [
       "<Figure size 432x288 with 1 Axes>"
      ]
     },
     "metadata": {
      "needs_background": "light"
     },
     "output_type": "display_data"
    }
   ],
   "source": [
    "# vaguely linear trend\n",
    "# cluster not sufficent\n",
    "sns.scatterplot(y = 'pct_D5AR', x = 'Total Score', data = df)"
   ]
  },
  {
   "cell_type": "markdown",
   "id": "exact-twelve",
   "metadata": {},
   "source": [
    "<h3>Average Happiness Score by Walkability Score Level</h3>"
   ]
  },
  {
   "cell_type": "code",
   "execution_count": 22,
   "id": "infectious-intranet",
   "metadata": {},
   "outputs": [],
   "source": [
    "by_quantile = matches.groupby('D2A_Ranked').describe()"
   ]
  },
  {
   "cell_type": "code",
   "execution_count": 23,
   "id": "final-milan",
   "metadata": {},
   "outputs": [
    {
     "data": {
      "text/plain": [
       "[Text(0, 0, '1'),\n",
       " Text(1, 0, '2'),\n",
       " Text(2, 0, '3'),\n",
       " Text(3, 0, '4'),\n",
       " Text(4, 0, '5'),\n",
       " Text(5, 0, '6'),\n",
       " Text(6, 0, '7'),\n",
       " Text(7, 0, '8'),\n",
       " Text(8, 0, '9'),\n",
       " Text(9, 0, '10'),\n",
       " Text(10, 0, '11'),\n",
       " Text(11, 0, '12'),\n",
       " Text(12, 0, '13'),\n",
       " Text(13, 0, '14'),\n",
       " Text(14, 0, '15'),\n",
       " Text(15, 0, '16'),\n",
       " Text(16, 0, '17'),\n",
       " Text(17, 0, '18'),\n",
       " Text(18, 0, '19'),\n",
       " Text(19, 0, '20')]"
      ]
     },
     "execution_count": 23,
     "metadata": {},
     "output_type": "execute_result"
    },
    {
     "data": {
      "image/png": "[encoded data removed]",
      "text/plain": [
       "<Figure size 432x288 with 1 Axes>"
      ]
     },
     "metadata": {
      "needs_background": "light"
     },
     "output_type": "display_data"
    }
   ],
   "source": [
    "g = sns.barplot(x = by_quantile.index, y = ('Total Score', 'mean'), data = by_quantile)\n",
    "g.set_xticklabels(g.get_xticklabels(),rotation = 90)"
   ]
  },
  {
   "cell_type": "markdown",
   "id": "automatic-victor",
   "metadata": {},
   "source": [
    "<p>Percent Who's Job is within 45 minutes</p>"
   ]
  },
  {
   "cell_type": "markdown",
   "id": "golden-chosen",
   "metadata": {},
   "source": [
    "<p>Walkability Scores for Happiest Cities</p>"
   ]
  },
  {
   "cell_type": "code",
   "execution_count": null,
   "id": "rapid-reminder",
   "metadata": {},
   "outputs": [],
   "source": [
    "# weak inverse relatioship between not owning a car and happiness\n",
    "# wealth as a confounding variable?\n",
    "sns.scatterplot(x = 'Pct_AO0', y = 'Total Score', data = df )"
   ]
  },
  {
   "cell_type": "code",
   "execution_count": null,
   "id": "classified-husband",
   "metadata": {},
   "outputs": [],
   "source": [
    "sns.scatterplot(x = 'PCT_protected', y = 'Total Score', data = df)"
   ]
  },
  {
   "cell_type": "code",
   "execution_count": null,
   "id": "lyric-aquarium",
   "metadata": {},
   "outputs": [],
   "source": [
    "sns.scatterplot(x = 'PCT_protected', y = 'Community & Environment', data = df)"
   ]
  },
  {
   "cell_type": "markdown",
   "id": "stylish-gathering",
   "metadata": {},
   "source": [
    "<h4>Association Between Density and Housing</h4>"
   ]
  },
  {
   "cell_type": "code",
   "execution_count": null,
   "id": "aboriginal-skirt",
   "metadata": {},
   "outputs": [],
   "source": [
    "# generally positive\n",
    "# D1A = Residential density\n",
    "sns.scatterplot(x = 'D1A', y = 'Total Score', data = df)"
   ]
  },
  {
   "cell_type": "code",
   "execution_count": null,
   "id": "distributed-gazette",
   "metadata": {},
   "outputs": [],
   "source": [
    "sns.barplot(x = df['D1A'], y = df.index, data = df)"
   ]
  },
  {
   "cell_type": "code",
   "execution_count": null,
   "id": "assisted-expense",
   "metadata": {},
   "outputs": [],
   "source": []
  }
 ],
 "metadata": {
  "kernelspec": {
   "display_name": "Python 3",
   "language": "python",
   "name": "python3"
  },
  "language_info": {
   "codemirror_mode": {
    "name": "ipython",
    "version": 3
   },
   "file_extension": ".py",
   "mimetype": "text/x-python",
   "name": "python",
   "nbconvert_exporter": "python",
   "pygments_lexer": "ipython3",
   "version": "3.8.3"
  }
 },
 "nbformat": 4,
 "nbformat_minor": 5
}
