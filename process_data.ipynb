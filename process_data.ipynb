{
 "cells": [
  {
   "cell_type": "markdown",
   "id": "closing-button",
   "metadata": {},
   "source": [
    "<h1>Process Data</h1>\n",
    "<h4>Haley Johnson</h4>\n",
    "\n",
    "<p>Notebook to extract, combine and transform data</p>"
   ]
  },
  {
   "cell_type": "code",
   "execution_count": 2,
   "id": "intelligent-enterprise",
   "metadata": {},
   "outputs": [],
   "source": [
    "import pandas as pd\n",
    "import numpy as np\n",
    "import os "
   ]
  },
  {
   "cell_type": "markdown",
   "id": "according-heating",
   "metadata": {},
   "source": [
    "<h2>Manipulate Happiness Data</h2>"
   ]
  },
  {
   "cell_type": "code",
   "execution_count": 30,
   "id": "proof-albania",
   "metadata": {},
   "outputs": [],
   "source": [
    "html = pd.read_html(\"happiest_cities.html\")"
   ]
  },
  {
   "cell_type": "code",
   "execution_count": 31,
   "id": "sitting-reader",
   "metadata": {},
   "outputs": [],
   "source": [
    "happiness_df = html[0]"
   ]
  },
  {
   "cell_type": "code",
   "execution_count": 34,
   "id": "continuing-funds",
   "metadata": {},
   "outputs": [],
   "source": [
    "happiness_df = happiness_df.rename(columns = {'City': 'Location'})\n",
    "\n",
    "happiness_df['state'] = happiness_df['Location'].apply(lambda s: s.split(\",\")[-1])\n",
    "happiness_df['city'] = happiness_df['Location'].apply(lambda s: s.split(\",\")[0])\n",
    "\n",
    "happiness_df = happiness_df.drop(columns = ['Location'])"
   ]
  },
  {
   "cell_type": "markdown",
   "id": "changed-maker",
   "metadata": {},
   "source": [
    "<h2>Manipulate Transportation Data</h2>"
   ]
  },
  {
   "cell_type": "code",
   "execution_count": 72,
   "id": "cutting-valuation",
   "metadata": {},
   "outputs": [],
   "source": [
    "locations_df = pd.read_csv(\"EPA_SmartLocationDatabase_V3_Jan_2021_Final.csv\")"
   ]
  },
  {
   "cell_type": "code",
   "execution_count": 73,
   "id": "based-compact",
   "metadata": {},
   "outputs": [],
   "source": [
    "# still deciding what to do with names\n",
    "\n",
    "# locations_df.rename(columns = {\"GEOID10\": \"2010_fips_code\", \"GEOID20\" : \"2018_fips_code\", \n",
    "#                     \"STATEFP\": 'state_fips_code', \"COUNTYFP\": \"county_fips_code\", \n",
    "#                     \"Ac_Total\": 'total_acres', 'Ac_Land': 'land_acres', 'Ac_Water': 'water_acres', \n",
    "#                     \"Ac_Unpr\": \"unprotected_acres\", \"CountHU\": \"total_housing_units\", \"HH\": \"households\", \n",
    "#                     \"P_WrkAge\": 'percent_working_age', 'AutoOwn0': 'owns_no_cars', \n",
    "#                     'Pct_AO0': 'percent_owns_no_cars', \"AutoOwn1\": 'owns_one_car', \"Pct_AO1\": \"percent_owns_one_car\",\n",
    "#                     \"AutoOwn2p\": \"owns_two_plus_cars\", \"Pct_AO2\": 'percent_owns_2_plus_cars'})"
   ]
  },
  {
   "cell_type": "markdown",
   "id": "latter-rhythm",
   "metadata": {},
   "source": [
    "<h3>Remove Rows Where Location Is Missing</h3>"
   ]
  },
  {
   "cell_type": "code",
   "execution_count": 74,
   "id": "colored-cheese",
   "metadata": {},
   "outputs": [],
   "source": [
    "locations_df = locations_df[pd.isnull(locations_df['CBSA_Name']) == False]"
   ]
  },
  {
   "cell_type": "markdown",
   "id": "demanding-billy",
   "metadata": {},
   "source": [
    "<h3>Get City and State Names</h3>"
   ]
  },
  {
   "cell_type": "code",
   "execution_count": 75,
   "id": "current-particle",
   "metadata": {},
   "outputs": [],
   "source": [
    "locations_df['CBSA_Name'] = locations_df['CBSA_Name'].astype(str)"
   ]
  },
  {
   "cell_type": "code",
   "execution_count": 76,
   "id": "olive-outside",
   "metadata": {},
   "outputs": [],
   "source": [
    "locations_df['metro_area_cities'] = locations_df['CBSA_Name'].apply(lambda s: str(s).split(\",\")[0])\n",
    "locations_df['metro_area_states'] = locations_df['CBSA_Name'].apply(lambda s: str(s).split(\",\")[-1])\n",
    "\n",
    "locations_df['city'] = locations_df['metro_area_cities'].apply(lambda s: s.split(\"-\"))\n",
    "locations_df['state'] = locations_df['metro_area_states'].apply(lambda s: s.split(\"-\"))"
   ]
  },
  {
   "cell_type": "code",
   "execution_count": 77,
   "id": "quarterly-truck",
   "metadata": {},
   "outputs": [],
   "source": [
    "locations_df = locations_df.drop(columns = ['metro_area_cities', 'metro_area_states'])"
   ]
  },
  {
   "cell_type": "markdown",
   "id": "hired-uruguay",
   "metadata": {},
   "source": [
    "<h3>Explode</h3>"
   ]
  },
  {
   "cell_type": "markdown",
   "id": "medieval-award",
   "metadata": {},
   "source": [
    "Credit to <a href = \"https://stackoverflow.com/questions/45846765/efficient-way-to-unnest-explode-multiple-list-columns-in-a-pandas-dataframe\">this</a> Stack Overflow post for helping me figure out how to do a multicolumn explode. "
   ]
  },
  {
   "cell_type": "code",
   "execution_count": 78,
   "id": "aging-translator",
   "metadata": {},
   "outputs": [],
   "source": [
    "cols = [c for c in list(locations_df.columns) if c not in ['city', 'state']]"
   ]
  },
  {
   "cell_type": "code",
   "execution_count": null,
   "id": "spectacular-capital",
   "metadata": {},
   "outputs": [],
   "source": [
    "locations_df.set_index(cols).apply(pd.Series.explode).reset_index()"
   ]
  },
  {
   "cell_type": "code",
   "execution_count": 60,
   "id": "located-butler",
   "metadata": {},
   "outputs": [],
   "source": [
    "locations_df_long = locations_df.explode('city').explode('state')"
   ]
  },
  {
   "cell_type": "code",
   "execution_count": 61,
   "id": "daily-female",
   "metadata": {},
   "outputs": [
    {
     "data": {
      "text/html": [
       "<div>\n",
       "<style scoped>\n",
       "    .dataframe tbody tr th:only-of-type {\n",
       "        vertical-align: middle;\n",
       "    }\n",
       "\n",
       "    .dataframe tbody tr th {\n",
       "        vertical-align: top;\n",
       "    }\n",
       "\n",
       "    .dataframe thead th {\n",
       "        text-align: right;\n",
       "    }\n",
       "</style>\n",
       "<table border=\"1\" class=\"dataframe\">\n",
       "  <thead>\n",
       "    <tr style=\"text-align: right;\">\n",
       "      <th></th>\n",
       "      <th>OBJECTID</th>\n",
       "      <th>GEOID10</th>\n",
       "      <th>GEOID20</th>\n",
       "      <th>STATEFP</th>\n",
       "      <th>COUNTYFP</th>\n",
       "      <th>TRACTCE</th>\n",
       "      <th>BLKGRPCE</th>\n",
       "      <th>CSA</th>\n",
       "      <th>CSA_Name</th>\n",
       "      <th>CBSA</th>\n",
       "      <th>...</th>\n",
       "      <th>Shape_Area</th>\n",
       "      <th>City</th>\n",
       "      <th>State</th>\n",
       "      <th>metro</th>\n",
       "      <th>state</th>\n",
       "      <th>metro_cities</th>\n",
       "      <th>metro_states</th>\n",
       "      <th>metro_area_cities</th>\n",
       "      <th>metro_area_states</th>\n",
       "      <th>city</th>\n",
       "    </tr>\n",
       "  </thead>\n",
       "  <tbody>\n",
       "    <tr>\n",
       "      <th>0</th>\n",
       "      <td>1</td>\n",
       "      <td>4.811300e+11</td>\n",
       "      <td>4.811300e+11</td>\n",
       "      <td>48</td>\n",
       "      <td>113</td>\n",
       "      <td>7825</td>\n",
       "      <td>4</td>\n",
       "      <td>206.0</td>\n",
       "      <td>Dallas-Fort Worth, TX-OK</td>\n",
       "      <td>19100.0</td>\n",
       "      <td>...</td>\n",
       "      <td>297836.0831</td>\n",
       "      <td>Dallas-Fort Worth-Arlington</td>\n",
       "      <td>TX</td>\n",
       "      <td>Dallas-Fort Worth-Arlington</td>\n",
       "      <td>TX</td>\n",
       "      <td>[Dallas, Fort Worth, Arlington]</td>\n",
       "      <td>TX</td>\n",
       "      <td>Dallas-Fort Worth-Arlington</td>\n",
       "      <td>TX</td>\n",
       "      <td>Dallas</td>\n",
       "    </tr>\n",
       "    <tr>\n",
       "      <th>0</th>\n",
       "      <td>1</td>\n",
       "      <td>4.811300e+11</td>\n",
       "      <td>4.811300e+11</td>\n",
       "      <td>48</td>\n",
       "      <td>113</td>\n",
       "      <td>7825</td>\n",
       "      <td>4</td>\n",
       "      <td>206.0</td>\n",
       "      <td>Dallas-Fort Worth, TX-OK</td>\n",
       "      <td>19100.0</td>\n",
       "      <td>...</td>\n",
       "      <td>297836.0831</td>\n",
       "      <td>Dallas-Fort Worth-Arlington</td>\n",
       "      <td>TX</td>\n",
       "      <td>Dallas-Fort Worth-Arlington</td>\n",
       "      <td>TX</td>\n",
       "      <td>[Dallas, Fort Worth, Arlington]</td>\n",
       "      <td>TX</td>\n",
       "      <td>Dallas-Fort Worth-Arlington</td>\n",
       "      <td>TX</td>\n",
       "      <td>Fort Worth</td>\n",
       "    </tr>\n",
       "    <tr>\n",
       "      <th>0</th>\n",
       "      <td>1</td>\n",
       "      <td>4.811300e+11</td>\n",
       "      <td>4.811300e+11</td>\n",
       "      <td>48</td>\n",
       "      <td>113</td>\n",
       "      <td>7825</td>\n",
       "      <td>4</td>\n",
       "      <td>206.0</td>\n",
       "      <td>Dallas-Fort Worth, TX-OK</td>\n",
       "      <td>19100.0</td>\n",
       "      <td>...</td>\n",
       "      <td>297836.0831</td>\n",
       "      <td>Dallas-Fort Worth-Arlington</td>\n",
       "      <td>TX</td>\n",
       "      <td>Dallas-Fort Worth-Arlington</td>\n",
       "      <td>TX</td>\n",
       "      <td>[Dallas, Fort Worth, Arlington]</td>\n",
       "      <td>TX</td>\n",
       "      <td>Dallas-Fort Worth-Arlington</td>\n",
       "      <td>TX</td>\n",
       "      <td>Arlington</td>\n",
       "    </tr>\n",
       "    <tr>\n",
       "      <th>1</th>\n",
       "      <td>2</td>\n",
       "      <td>4.811300e+11</td>\n",
       "      <td>4.811300e+11</td>\n",
       "      <td>48</td>\n",
       "      <td>113</td>\n",
       "      <td>7825</td>\n",
       "      <td>2</td>\n",
       "      <td>206.0</td>\n",
       "      <td>Dallas-Fort Worth, TX-OK</td>\n",
       "      <td>19100.0</td>\n",
       "      <td>...</td>\n",
       "      <td>484945.1466</td>\n",
       "      <td>Dallas-Fort Worth-Arlington</td>\n",
       "      <td>TX</td>\n",
       "      <td>Dallas-Fort Worth-Arlington</td>\n",
       "      <td>TX</td>\n",
       "      <td>[Dallas, Fort Worth, Arlington]</td>\n",
       "      <td>TX</td>\n",
       "      <td>Dallas-Fort Worth-Arlington</td>\n",
       "      <td>TX</td>\n",
       "      <td>Dallas</td>\n",
       "    </tr>\n",
       "    <tr>\n",
       "      <th>1</th>\n",
       "      <td>2</td>\n",
       "      <td>4.811300e+11</td>\n",
       "      <td>4.811300e+11</td>\n",
       "      <td>48</td>\n",
       "      <td>113</td>\n",
       "      <td>7825</td>\n",
       "      <td>2</td>\n",
       "      <td>206.0</td>\n",
       "      <td>Dallas-Fort Worth, TX-OK</td>\n",
       "      <td>19100.0</td>\n",
       "      <td>...</td>\n",
       "      <td>484945.1466</td>\n",
       "      <td>Dallas-Fort Worth-Arlington</td>\n",
       "      <td>TX</td>\n",
       "      <td>Dallas-Fort Worth-Arlington</td>\n",
       "      <td>TX</td>\n",
       "      <td>[Dallas, Fort Worth, Arlington]</td>\n",
       "      <td>TX</td>\n",
       "      <td>Dallas-Fort Worth-Arlington</td>\n",
       "      <td>TX</td>\n",
       "      <td>Fort Worth</td>\n",
       "    </tr>\n",
       "  </tbody>\n",
       "</table>\n",
       "<p>5 rows × 126 columns</p>\n",
       "</div>"
      ],
      "text/plain": [
       "   OBJECTID       GEOID10       GEOID20  STATEFP  COUNTYFP  TRACTCE  BLKGRPCE  \\\n",
       "0         1  4.811300e+11  4.811300e+11       48       113     7825         4   \n",
       "0         1  4.811300e+11  4.811300e+11       48       113     7825         4   \n",
       "0         1  4.811300e+11  4.811300e+11       48       113     7825         4   \n",
       "1         2  4.811300e+11  4.811300e+11       48       113     7825         2   \n",
       "1         2  4.811300e+11  4.811300e+11       48       113     7825         2   \n",
       "\n",
       "     CSA                  CSA_Name     CBSA  ...   Shape_Area  \\\n",
       "0  206.0  Dallas-Fort Worth, TX-OK  19100.0  ...  297836.0831   \n",
       "0  206.0  Dallas-Fort Worth, TX-OK  19100.0  ...  297836.0831   \n",
       "0  206.0  Dallas-Fort Worth, TX-OK  19100.0  ...  297836.0831   \n",
       "1  206.0  Dallas-Fort Worth, TX-OK  19100.0  ...  484945.1466   \n",
       "1  206.0  Dallas-Fort Worth, TX-OK  19100.0  ...  484945.1466   \n",
       "\n",
       "                          City  State                        metro  state  \\\n",
       "0  Dallas-Fort Worth-Arlington     TX  Dallas-Fort Worth-Arlington     TX   \n",
       "0  Dallas-Fort Worth-Arlington     TX  Dallas-Fort Worth-Arlington     TX   \n",
       "0  Dallas-Fort Worth-Arlington     TX  Dallas-Fort Worth-Arlington     TX   \n",
       "1  Dallas-Fort Worth-Arlington     TX  Dallas-Fort Worth-Arlington     TX   \n",
       "1  Dallas-Fort Worth-Arlington     TX  Dallas-Fort Worth-Arlington     TX   \n",
       "\n",
       "                      metro_cities  metro_states            metro_area_cities  \\\n",
       "0  [Dallas, Fort Worth, Arlington]            TX  Dallas-Fort Worth-Arlington   \n",
       "0  [Dallas, Fort Worth, Arlington]            TX  Dallas-Fort Worth-Arlington   \n",
       "0  [Dallas, Fort Worth, Arlington]            TX  Dallas-Fort Worth-Arlington   \n",
       "1  [Dallas, Fort Worth, Arlington]            TX  Dallas-Fort Worth-Arlington   \n",
       "1  [Dallas, Fort Worth, Arlington]            TX  Dallas-Fort Worth-Arlington   \n",
       "\n",
       "   metro_area_states        city  \n",
       "0                 TX      Dallas  \n",
       "0                 TX  Fort Worth  \n",
       "0                 TX   Arlington  \n",
       "1                 TX      Dallas  \n",
       "1                 TX  Fort Worth  \n",
       "\n",
       "[5 rows x 126 columns]"
      ]
     },
     "execution_count": 61,
     "metadata": {},
     "output_type": "execute_result"
    }
   ],
   "source": [
    "locations_df_long.head()"
   ]
  },
  {
   "cell_type": "code",
   "execution_count": null,
   "id": "color-surge",
   "metadata": {},
   "outputs": [],
   "source": []
  }
 ],
 "metadata": {
  "kernelspec": {
   "display_name": "Python 3",
   "language": "python",
   "name": "python3"
  },
  "language_info": {
   "codemirror_mode": {
    "name": "ipython",
    "version": 3
   },
   "file_extension": ".py",
   "mimetype": "text/x-python",
   "name": "python",
   "nbconvert_exporter": "python",
   "pygments_lexer": "ipython3",
   "version": "3.8.3"
  }
 },
 "nbformat": 4,
 "nbformat_minor": 5
}
