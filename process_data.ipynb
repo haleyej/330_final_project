{
 "cells": [
  {
   "cell_type": "markdown",
   "id": "bizarre-final",
   "metadata": {},
   "source": [
    "<h1>Process Data</h1>\n",
    "<h4>Haley Johnson</h4>\n",
    "\n",
    "<p>Notebook to extract, combine and transform data</p>"
   ]
  },
  {
   "cell_type": "code",
   "execution_count": 36,
   "id": "specialized-sheriff",
   "metadata": {},
   "outputs": [],
   "source": [
    "import pandas as pd\n",
    "import numpy as np\n",
    "import seaborn as sns\n",
    "import matplotlib.pyplot as plt\n",
    "import os "
   ]
  },
  {
   "cell_type": "markdown",
   "id": "ecological-inventory",
   "metadata": {},
   "source": [
    "<h2>Manipulate Happiness Data</h2>"
   ]
  },
  {
   "cell_type": "code",
   "execution_count": 2,
   "id": "excellent-strip",
   "metadata": {},
   "outputs": [],
   "source": [
    "html = pd.read_html(\"happiest_cities.html\")"
   ]
  },
  {
   "cell_type": "code",
   "execution_count": 3,
   "id": "raised-flower",
   "metadata": {},
   "outputs": [],
   "source": [
    "happiness_df = html[0]"
   ]
  },
  {
   "cell_type": "code",
   "execution_count": 4,
   "id": "wired-bidding",
   "metadata": {},
   "outputs": [],
   "source": [
    "happiness_df = happiness_df.rename(columns = {'City': 'Location'})\n",
    "\n",
    "happiness_df['state'] = happiness_df['Location'].apply(lambda s: s.split(\",\")[-1])\n",
    "happiness_df['city'] = happiness_df['Location'].apply(lambda s: s.split(\",\")[0])\n",
    "\n",
    "happiness_df = happiness_df.drop(columns = ['Location'])"
   ]
  },
  {
   "cell_type": "code",
   "execution_count": 5,
   "id": "stylish-belarus",
   "metadata": {},
   "outputs": [],
   "source": [
    "happiness_df['state'] = happiness_df['state'].str.upper()\n",
    "happiness_df['city'] = happiness_df['city'].str.upper()"
   ]
  },
  {
   "cell_type": "markdown",
   "id": "pretty-deviation",
   "metadata": {},
   "source": [
    "<h2>Manipulate Transportation Data</h2>"
   ]
  },
  {
   "cell_type": "code",
   "execution_count": 6,
   "id": "obvious-orleans",
   "metadata": {},
   "outputs": [],
   "source": [
    "locations_df = pd.read_csv(\"EPA_SmartLocationDatabase_V3_Jan_2021_Final.csv\")"
   ]
  },
  {
   "cell_type": "markdown",
   "id": "split-coalition",
   "metadata": {},
   "source": [
    "<h4>Remove Rows Where Location Is Missing</h4>"
   ]
  },
  {
   "cell_type": "code",
   "execution_count": 7,
   "id": "serious-differential",
   "metadata": {},
   "outputs": [],
   "source": [
    "locations_df = locations_df[pd.isnull(locations_df['CBSA_Name']) == False]"
   ]
  },
  {
   "cell_type": "markdown",
   "id": "cultural-financing",
   "metadata": {},
   "source": [
    "<h4>Adding Percent Columns</h4>"
   ]
  },
  {
   "cell_type": "code",
   "execution_count": 8,
   "id": "banner-undergraduate",
   "metadata": {},
   "outputs": [],
   "source": [
    "def calc_pct_protect(s):\n",
    "    '''\n",
    "    Takes in a row of a dataframe\n",
    "    Returns the percentage of land\n",
    "    that is protected'''\n",
    "    \n",
    "    total_area = s['Ac_Total']\n",
    "    unprotected_area = s['Ac_Unpr']\n",
    "    protected_area = total_area - unprotected_area\n",
    "    try:\n",
    "        div = (protected_area / total_area)\n",
    "    except:\n",
    "        div = 0\n",
    "    return div\n",
    "    "
   ]
  },
  {
   "cell_type": "code",
   "execution_count": 9,
   "id": "affecting-netscape",
   "metadata": {},
   "outputs": [],
   "source": [
    "locations_df['PCT_protected'] = locations_df.apply(calc_pct_protect, axis = 1)\n",
    "\n",
    "locations_df['PCT_water'] = locations_df['Ac_Water'] / locations_df['Ac_Total']\n",
    "locations_df['pct_D5AR'] = locations_df['D5AR'] / locations_df['CBSA_POP']"
   ]
  },
  {
   "cell_type": "markdown",
   "id": "corresponding-mining",
   "metadata": {},
   "source": [
    "<h4>Setting Ranking Columns as Category</h4>"
   ]
  },
  {
   "cell_type": "code",
   "execution_count": 10,
   "id": "successful-rally",
   "metadata": {},
   "outputs": [],
   "source": [
    "rankings = ['D2A_Ranked', 'D2B_Ranked', 'D3B_Ranked', 'D4A_Ranked']\n",
    "\n",
    "for rank in rankings:\n",
    "    locations_df[rank] = locations_df[rank].astype('category')"
   ]
  },
  {
   "cell_type": "markdown",
   "id": "antique-saint",
   "metadata": {},
   "source": [
    "<h4>Get City and State Names</h4>"
   ]
  },
  {
   "cell_type": "code",
   "execution_count": 11,
   "id": "instrumental-france",
   "metadata": {},
   "outputs": [],
   "source": [
    "locations_df['CBSA_Name'] = locations_df['CBSA_Name'].astype(str)"
   ]
  },
  {
   "cell_type": "code",
   "execution_count": 12,
   "id": "wrapped-lecture",
   "metadata": {},
   "outputs": [],
   "source": [
    "locations_df['metro_area_cities'] = locations_df['CBSA_Name'].apply(lambda s: str(s).split(\",\")[0])\n",
    "locations_df['metro_area_states'] = locations_df['CBSA_Name'].apply(lambda s: str(s).split(\",\")[-1])\n",
    "\n",
    "locations_df['city'] = locations_df['metro_area_cities'].apply(lambda s: s.split(\"-\"))\n",
    "locations_df['state'] = locations_df['metro_area_states'].apply(lambda s: s.split(\"-\"))"
   ]
  },
  {
   "cell_type": "code",
   "execution_count": 13,
   "id": "desperate-italian",
   "metadata": {},
   "outputs": [],
   "source": [
    "locations_df = locations_df.drop(columns = ['metro_area_cities', 'metro_area_states'])"
   ]
  },
  {
   "cell_type": "markdown",
   "id": "magnetic-departure",
   "metadata": {},
   "source": [
    "<h3>Explode</h3>"
   ]
  },
  {
   "cell_type": "code",
   "execution_count": 14,
   "id": "upset-anderson",
   "metadata": {},
   "outputs": [],
   "source": [
    "exploded = locations_df.explode('city')\n",
    "exploded = exploded.explode('state')\n",
    "exploded = exploded.drop_duplicates()"
   ]
  },
  {
   "cell_type": "code",
   "execution_count": 15,
   "id": "ethical-serve",
   "metadata": {},
   "outputs": [],
   "source": [
    "exploded['city'] = exploded['city'].str.upper()\n",
    "exploded['state'] = exploded['state'].str.upper()"
   ]
  },
  {
   "cell_type": "markdown",
   "id": "coral-scholarship",
   "metadata": {},
   "source": [
    "<h2>Merging Happiness and Transportation Dataframes</h2>"
   ]
  },
  {
   "cell_type": "code",
   "execution_count": 16,
   "id": "beneficial-expression",
   "metadata": {},
   "outputs": [],
   "source": [
    "df = exploded.merge(happiness_df, on = ['state', 'city'], how = 'left')"
   ]
  },
  {
   "cell_type": "code",
   "execution_count": 17,
   "id": "stuffed-visibility",
   "metadata": {},
   "outputs": [],
   "source": [
    "matches = exploded.merge(happiness_df, on = ['state', 'city'])"
   ]
  },
  {
   "cell_type": "code",
   "execution_count": 18,
   "id": "sacred-fellowship",
   "metadata": {},
   "outputs": [],
   "source": [
    "# NOTE TO SELF: When you add new columns up above, you need to adjust these \n",
    "vals = list(matches.columns)[11:-7] + list(happiness_df.columns)[:-2]\n",
    "df = pd.pivot_table(matches, index = ['city', \"state\"], values = vals, aggfunc='mean')"
   ]
  },
  {
   "cell_type": "code",
   "execution_count": 19,
   "id": "entitled-jackson",
   "metadata": {},
   "outputs": [],
   "source": [
    "df = df.reset_index()"
   ]
  },
  {
   "cell_type": "markdown",
   "id": "anonymous-phenomenon",
   "metadata": {},
   "source": [
    "<h2>Data Visualization</h2>"
   ]
  },
  {
   "cell_type": "code",
   "execution_count": 20,
   "id": "finished-organ",
   "metadata": {},
   "outputs": [
    {
     "data": {
      "text/plain": [
       "<AxesSubplot:xlabel='Community & Environment', ylabel='pct_D5AR'>"
      ]
     },
     "execution_count": 20,
     "metadata": {},
     "output_type": "execute_result"
    },
    {
     "data": {
      "image/png": "[encoded data removed]",
      "text/plain": [
       "<Figure size 432x288 with 1 Axes>"
      ]
     },
     "metadata": {
      "needs_background": "light"
     },
     "output_type": "display_data"
    }
   ],
   "source": [
    "df.plot.scatter(y = 'pct_D5AR', x = 'Community & Environment')"
   ]
  },
  {
   "cell_type": "code",
   "execution_count": 21,
   "id": "dependent-adams",
   "metadata": {},
   "outputs": [
    {
     "data": {
      "text/plain": [
       "<AxesSubplot:xlabel='Total Score', ylabel='pct_D5AR'>"
      ]
     },
     "execution_count": 21,
     "metadata": {},
     "output_type": "execute_result"
    },
    {
     "data": {
      "image/png": "[encoded data removed]",
      "text/plain": [
       "<Figure size 432x288 with 1 Axes>"
      ]
     },
     "metadata": {
      "needs_background": "light"
     },
     "output_type": "display_data"
    }
   ],
   "source": [
    "# vaguely linear trend\n",
    "# cluster not sufficent\n",
    "sns.scatterplot(y = 'pct_D5AR', x = 'Total Score', data = df)"
   ]
  },
  {
   "cell_type": "markdown",
   "id": "least-relief",
   "metadata": {},
   "source": [
    "<h3>Average Happiness Score by Walkability Score Level</h3>"
   ]
  },
  {
   "cell_type": "code",
   "execution_count": null,
   "id": "toxic-matter",
   "metadata": {},
   "outputs": [],
   "source": [
    "fig, axes = plt.subplots(2, 2, sharey= True)\n",
    "fig.set_size_inches(15, 10)\n",
    "fig.subplots_adjust(hspace=.5, wspace = 0.5)\n",
    "\n",
    "targets = ['D2A_Ranked', 'D2B_Ranked', 'D3B_Ranked', 'D4A_Ranked']\n",
    "\n",
    "for i, ax in enumerate(axes.flatten()):\n",
    "    g = sns.pointplot(x = targets[i], y = 'Total Score', data = matches, join = False, ax = ax)\n",
    "    g.set_xticklabels(g.get_xticklabels(), rotation = 90)\n",
    "    g.set_xlabel(xlabel = '1-20 Ranking')\n",
    "    g.set_ylabel('Happiness Score')\n",
    "    \n",
    "# set titles\n",
    "axes[0][0].set_title('1-20 Ranking of Number of \\n Walking Trips to Tier 5 Employment Jobs')\n",
    "axes[0][1].set_title('1-20 Ranking of Number of \\n Walking Trips to Tier 5 Employment Jobs')\n",
    "axes[1][0].set_title('1-20 Ranking of Density \\n of Pedestrian Street Intersections')\n",
    "axes[1][1].set_title('1-20 Ranking of Distance \\n From Population Center to Nearest Transit Stop')\n",
    "\n",
    "fig.suptitle(\"Happiness Scores vs Walkability Index Ranking\")"
   ]
  },
  {
   "cell_type": "code",
   "execution_count": null,
   "id": "racial-dallas",
   "metadata": {},
   "outputs": [],
   "source": [
    "# g = sns.pointplot(x = 'D2A_Ranked', y = 'Total Score', data = matches, join = False)\n",
    "# g.set_xticklabels(g.get_xticklabels(),rotation = 90)"
   ]
  },
  {
   "cell_type": "markdown",
   "id": "several-mozambique",
   "metadata": {},
   "source": [
    "<h3>Walkability Scores for Happiest Cities</h3>"
   ]
  },
  {
   "cell_type": "code",
   "execution_count": 31,
   "id": "favorite-polls",
   "metadata": {},
   "outputs": [
    {
     "data": {
      "text/plain": [
       "<AxesSubplot:xlabel='Pct_AO0', ylabel='Total Score'>"
      ]
     },
     "execution_count": 31,
     "metadata": {},
     "output_type": "execute_result"
    },
    {
     "data": {
      "image/png": "[encoded data removed]",
      "text/plain": [
       "<Figure size 432x288 with 1 Axes>"
      ]
     },
     "metadata": {
      "needs_background": "light"
     },
     "output_type": "display_data"
    }
   ],
   "source": [
    "# weak inverse relatioship between not owning a car and happiness\n",
    "# wealth as a confounding variable?\n",
    "sns.scatterplot(x = 'Pct_AO0', y = 'Total Score', data = df )"
   ]
  },
  {
   "cell_type": "code",
   "execution_count": 32,
   "id": "driven-safety",
   "metadata": {},
   "outputs": [
    {
     "data": {
      "text/plain": [
       "<AxesSubplot:xlabel='PCT_protected', ylabel='Total Score'>"
      ]
     },
     "execution_count": 32,
     "metadata": {},
     "output_type": "execute_result"
    },
    {
     "data": {
      "image/png": "[encoded data removed]",
      "text/plain": [
       "<Figure size 432x288 with 1 Axes>"
      ]
     },
     "metadata": {
      "needs_background": "light"
     },
     "output_type": "display_data"
    }
   ],
   "source": [
    "sns.scatterplot(x = 'PCT_protected', y = 'Total Score', data = df)"
   ]
  },
  {
   "cell_type": "code",
   "execution_count": 33,
   "id": "searching-formation",
   "metadata": {},
   "outputs": [
    {
     "data": {
      "text/plain": [
       "<AxesSubplot:xlabel='PCT_protected', ylabel='Community & Environment'>"
      ]
     },
     "execution_count": 33,
     "metadata": {},
     "output_type": "execute_result"
    },
    {
     "data": {
      "image/png": "[encoded data removed]",
      "text/plain": [
       "<Figure size 432x288 with 1 Axes>"
      ]
     },
     "metadata": {
      "needs_background": "light"
     },
     "output_type": "display_data"
    }
   ],
   "source": [
    "sns.scatterplot(x = 'PCT_protected', y = 'Community & Environment', data = df)"
   ]
  },
  {
   "cell_type": "markdown",
   "id": "indian-lawyer",
   "metadata": {},
   "source": [
    "<h4>Association Between Density and Housing</h4>"
   ]
  },
  {
   "cell_type": "code",
   "execution_count": null,
   "id": "reverse-performance",
   "metadata": {},
   "outputs": [],
   "source": [
    "# generally positive\n",
    "# D1A = Residential density\n",
    "sns.scatterplot(x = 'D1A', y = 'Total Score', data = df)"
   ]
  },
  {
   "cell_type": "code",
   "execution_count": null,
   "id": "final-google",
   "metadata": {},
   "outputs": [],
   "source": [
    "sns.barplot(x = df['D1A'], y = df.index, data = df)"
   ]
  },
  {
   "cell_type": "code",
   "execution_count": null,
   "id": "parallel-entity",
   "metadata": {},
   "outputs": [],
   "source": []
  }
 ],
 "metadata": {
  "kernelspec": {
   "display_name": "Python 3",
   "language": "python",
   "name": "python3"
  },
  "language_info": {
   "codemirror_mode": {
    "name": "ipython",
    "version": 3
   },
   "file_extension": ".py",
   "mimetype": "text/x-python",
   "name": "python",
   "nbconvert_exporter": "python",
   "pygments_lexer": "ipython3",
   "version": "3.8.3"
  }
 },
 "nbformat": 4,
 "nbformat_minor": 5
}
